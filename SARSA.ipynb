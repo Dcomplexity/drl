{
 "cells": [
  {
   "cell_type": "markdown",
   "id": "awful-pierre",
   "metadata": {},
   "source": [
    "### SARSA On-Policy control\n",
    "\n",
    "SARSA control is carried out by sampling step by step and updating Q values at each step. This leads to continuous improvement of ε-greedy policy. The Update equation is given below:\n",
    "\n",
    "$$ Q(S,A) \\leftarrow Q(S,A) + \\alpha * [ R + \\gamma * Q(S’,A’) – Q(S,A)] $$"
   ]
  },
  {
   "cell_type": "code",
   "execution_count": 1,
   "id": "uniform-yellow",
   "metadata": {},
   "outputs": [],
   "source": [
    "# Initial imports and enviroment setup\n",
    "import gym\n",
    "import gym.envs.toy_text\n",
    "import sys\n",
    "import numpy as np\n",
    "import seaborn as sns\n",
    "import matplotlib.pyplot as plt\n",
    "%matplotlib inline"
   ]
  },
  {
   "cell_type": "code",
   "execution_count": 2,
   "id": "mediterranean-edition",
   "metadata": {},
   "outputs": [],
   "source": [
    "# SARSA Learning agent class\n",
    "from collections import defaultdict\n",
    "\n",
    "\n",
    "class SARSAAgent:\n",
    "    def __init__(self, alpha, epsilon, gamma, get_possible_actions):\n",
    "        self.get_possible_actions = get_possible_actions\n",
    "        self.alpha = alpha\n",
    "        self.epsilon = epsilon\n",
    "        self.gamma = gamma\n",
    "        self._Q = defaultdict(lambda: defaultdict(lambda: 0))\n",
    "\n",
    "    def get_Q(self, state, action):\n",
    "        return self._Q[state][action]\n",
    "\n",
    "    def set_Q(self, state, action, value):\n",
    "        self._Q[state][action] = value\n",
    "\n",
    "    # carryout SARSA updated based on the sample (S, A, R, S', A')\n",
    "    def update(self, state, action, reward, next_state, next_action, done):\n",
    "        if not done:\n",
    "            td_error = reward + \\\n",
    "                       self.gamma * self.get_Q(next_state, next_action) - \\\n",
    "                       self.get_Q(state, action)\n",
    "        else:\n",
    "            td_error = reward - self.get_Q(state, action)\n",
    "\n",
    "        new_value = self.get_Q(state, action) + self.alpha * td_error\n",
    "        self.set_Q(state, action, new_value)\n",
    "\n",
    "    # get argmax for q(s,a)\n",
    "    def max_action(self, state):\n",
    "        actions = self.get_possible_actions(state)\n",
    "        best_action = []\n",
    "        best_q_value = float(\"-inf\")\n",
    "\n",
    "        for action in actions:\n",
    "            q_s_a = self.get_Q(state, action)\n",
    "            if q_s_a > best_q_value:\n",
    "                best_action = [action]\n",
    "                best_q_value = q_s_a\n",
    "            elif q_s_a == best_q_value:\n",
    "                best_action.append(action)\n",
    "        return np.random.choice(np.array(best_action))\n",
    "\n",
    "    # choose action as per epsilon-greedy policy\n",
    "    def get_action(self, state):\n",
    "        actions = self.get_possible_actions(state)\n",
    "\n",
    "        if len(actions) == 0:\n",
    "            return None\n",
    "\n",
    "        if np.random.random() < self.epsilon:\n",
    "            a = np.random.choice(actions)\n",
    "            return a\n",
    "        else:\n",
    "            a = self.max_action(state)\n",
    "            return a"
   ]
  },
  {
   "cell_type": "code",
   "execution_count": 3,
   "id": "fossil-belarus",
   "metadata": {},
   "outputs": [],
   "source": [
    "# training algorithm\n",
    "def train_agent(env, agent, episode_cnt=10000, tmax=10000, anneal_eps=True):\n",
    "    episode_rewards = []\n",
    "    for i in range(episode_cnt):\n",
    "        G = 0\n",
    "        state = env.reset()\n",
    "        action = agent.get_action(state)\n",
    "        for t in range(tmax):\n",
    "            next_state, reward, done, _ = env.step(action)\n",
    "            next_action = agent.get_action(next_state)\n",
    "            agent.update(state, action, reward, next_state, next_action, done)\n",
    "            G += reward\n",
    "            if done:\n",
    "                episode_rewards.append(G)\n",
    "                # to reduce the exploration probability epsilon over the\n",
    "                # training period.\n",
    "                if anneal_eps:\n",
    "                    agent.epsilon = agent.epsilon * 0.99\n",
    "                break\n",
    "            state = next_state\n",
    "            action = next_action\n",
    "    return np.array(episode_rewards)"
   ]
  },
  {
   "cell_type": "code",
   "execution_count": 4,
   "id": "cheap-eclipse",
   "metadata": {},
   "outputs": [],
   "source": [
    "# plot rewards\n",
    "def plot_rewards(env_name, rewards, label):\n",
    "    plt.title(\"env={}, Mean reward = {:.1f}\".format(env_name,\n",
    "                                                    np.mean(rewards[-20:])))\n",
    "    plt.plot(rewards, label=label)\n",
    "    plt.grid()\n",
    "    plt.legend()\n",
    "    plt.ylim(-300, 0)\n",
    "    plt.show()"
   ]
  },
  {
   "cell_type": "code",
   "execution_count": 5,
   "id": "recognized-estate",
   "metadata": {},
   "outputs": [],
   "source": [
    "# helper function to print policy under Cliff world\n",
    "def print_policy(env, agent):\n",
    "    nR, nC = env._cliff.shape\n",
    "\n",
    "    actions = '^>v<'\n",
    "\n",
    "    for y in range(nR):\n",
    "        for x in range(nC):\n",
    "            if env._cliff[y, x]:\n",
    "                print(\" C \", end='')\n",
    "            elif (y * nC + x) == env.start_state_index:\n",
    "                print(\" X \", end='')\n",
    "            elif (y * nC + x) == nR * nC - 1:\n",
    "                print(\" T \", end='')\n",
    "            else:\n",
    "                print(\" %s \" %\n",
    "                      actions[agent.max_action(y * nC + x)], end='')\n",
    "        print()"
   ]
  },
  {
   "cell_type": "code",
   "execution_count": 6,
   "id": "complicated-advocacy",
   "metadata": {},
   "outputs": [
    {
     "name": "stdout",
     "output_type": "stream",
     "text": [
      "\n",
      "    This is a simple implementation of the Gridworld Cliff\n",
      "    reinforcement learning task.\n",
      "\n",
      "    Adapted from Example 6.6 (page 106) from Reinforcement Learning: An Introduction\n",
      "    by Sutton and Barto:\n",
      "    http://incompleteideas.net/book/bookdraft2018jan1.pdf\n",
      "\n",
      "    With inspiration from:\n",
      "    https://github.com/dennybritz/reinforcement-learning/blob/master/lib/envs/cliff_walking.py\n",
      "\n",
      "    The board is a 4x12 matrix, with (using NumPy matrix indexing):\n",
      "        [3, 0] as the start at bottom-left\n",
      "        [3, 11] as the goal at bottom-right\n",
      "        [3, 1..10] as the cliff at bottom-center\n",
      "\n",
      "    Each time step incurs -1 reward, and stepping into the cliff incurs -100 reward\n",
      "    and a reset to the start. An episode terminates when the agent reaches the goal.\n",
      "    \n"
     ]
    }
   ],
   "source": [
    "# create cliff world environment\n",
    "env = gym.envs.toy_text.CliffWalkingEnv()\n",
    "print(env.__doc__)"
   ]
  },
  {
   "cell_type": "code",
   "execution_count": 7,
   "id": "deadly-midnight",
   "metadata": {},
   "outputs": [],
   "source": [
    "# create a SARSA agent\n",
    "agent = SARSAAgent(\n",
    "            alpha=0.25,\n",
    "            epsilon=0.2,\n",
    "            gamma=0.99,\n",
    "            get_possible_actions=lambda s : range(env.nA)\n",
    "        )\n",
    "\n",
    "#train agent and get rewards for episodes\n",
    "rewards = train_agent(env, agent, episode_cnt = 5000)"
   ]
  },
  {
   "cell_type": "code",
   "execution_count": 8,
   "id": "dressed-winter",
   "metadata": {},
   "outputs": [
    {
     "data": {
      "image/png": "[encoded data removed]",
      "text/plain": [
       "<Figure size 432x288 with 1 Axes>"
      ]
     },
     "metadata": {
      "needs_background": "light"
     },
     "output_type": "display_data"
    }
   ],
   "source": [
    "# plot rewards\n",
    "plot_rewards(\"Cliff World\",rewards, 'SARSA')"
   ]
  },
  {
   "cell_type": "code",
   "execution_count": 9,
   "id": "postal-alias",
   "metadata": {},
   "outputs": [
    {
     "name": "stdout",
     "output_type": "stream",
     "text": [
      " >  >  >  >  >  >  >  >  >  v  >  v \n",
      " >  ^  ^  >  >  >  >  >  >  >  >  v \n",
      " ^  <  ^  >  <  ^  ^  ^  <  ^  >  v \n",
      " X  C  C  C  C  C  C  C  C  C  C  T \n"
     ]
    }
   ],
   "source": [
    "# print policy\n",
    "print_policy(env, agent)"
   ]
  },
  {
   "cell_type": "code",
   "execution_count": 10,
   "id": "informal-dairy",
   "metadata": {},
   "outputs": [
    {
     "data": {
      "image/png": "[encoded data removed]",
      "text/plain": [
       "<Figure size 432x288 with 1 Axes>"
      ]
     },
     "metadata": {
      "needs_background": "light"
     },
     "output_type": "display_data"
    }
   ],
   "source": [
    "# create taxi environment\n",
    "env = gym.make(\"Taxi-v3\")\n",
    "\n",
    "# create a SARSA agent\n",
    "agent = SARSAAgent(\n",
    "            alpha=0.25, \n",
    "            epsilon=0.2, \n",
    "            gamma=0.99, \n",
    "            get_possible_actions=lambda s : range(env.nA)\n",
    "        )\n",
    "\n",
    "#train agent and get rewards for episodes\n",
    "rewards = train_agent(env, agent, episode_cnt = 5000)\n",
    "\n",
    "#plot reward graph\n",
    "plot_rewards(\"Taxi\", rewards, 'SARSA')"
   ]
  },
  {
   "cell_type": "code",
   "execution_count": null,
   "id": "republican-intellectual",
   "metadata": {},
   "outputs": [],
   "source": []
  }
 ],
 "metadata": {
  "kernelspec": {
   "display_name": "Python [conda env:rl_tensorflow]",
   "language": "python",
   "name": "conda-env-rl_tensorflow-py"
  },
  "language_info": {
   "codemirror_mode": {
    "name": "ipython",
    "version": 3
   },
   "file_extension": ".py",
   "mimetype": "text/x-python",
   "name": "python",
   "nbconvert_exporter": "python",
   "pygments_lexer": "ipython3",
   "version": "3.8.5"
  }
 },
 "nbformat": 4,
 "nbformat_minor": 5
}
